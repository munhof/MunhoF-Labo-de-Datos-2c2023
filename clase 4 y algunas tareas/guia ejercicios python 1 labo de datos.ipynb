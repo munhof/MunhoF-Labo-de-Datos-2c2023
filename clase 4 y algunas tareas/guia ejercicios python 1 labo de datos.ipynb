{
 "cells": [
  {
   "cell_type": "code",
   "execution_count": null,
   "id": "811d5f89-2aad-460a-9d20-6c12efe2b3ac",
   "metadata": {},
   "outputs": [],
   "source": []
  }
 ],
 "metadata": {
  "kernelspec": {
   "display_name": "Python 3 (ipykernel)",
   "language": "python",
   "name": "python3"
  },
  "language_info": {
   "name": ""
  }
 },
 "nbformat": 4,
 "nbformat_minor": 5
}
