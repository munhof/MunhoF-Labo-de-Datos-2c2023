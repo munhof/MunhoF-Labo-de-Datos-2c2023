{
 "cells": [
  {
   "cell_type": "markdown",
   "metadata": {},
   "source": [
    "# Evaluación de Modelos\n",
    "\n",
    "**Objetivo:** dada los datos de una canción (una fila en nuestro dataset) poder predecir si esta en Folklore o Evermore o es de otro álbum.\n",
    "\n",
    "**Datos:** dataset con distintas variables de las canciones de Taylor Swift."
   ]
  },
  {
   "cell_type": "code",
   "execution_count": 1,
   "metadata": {},
   "outputs": [],
   "source": [
    "import pandas as pd \n",
    "import utils"
   ]
  },
  {
   "cell_type": "markdown",
   "metadata": {},
   "source": [
    "#### Cargamos el dataset -- la función load_dataset limpia un poco los datos"
   ]
  },
  {
   "cell_type": "code",
   "execution_count": 2,
   "metadata": {},
   "outputs": [
    {
     "data": {
      "text/html": [
       "<div>\n",
       "<style scoped>\n",
       "    .dataframe tbody tr th:only-of-type {\n",
       "        vertical-align: middle;\n",
       "    }\n",
       "\n",
       "    .dataframe tbody tr th {\n",
       "        vertical-align: top;\n",
       "    }\n",
       "\n",
       "    .dataframe thead th {\n",
       "        text-align: right;\n",
       "    }\n",
       "</style>\n",
       "<table border=\"1\" class=\"dataframe\">\n",
       "  <thead>\n",
       "    <tr style=\"text-align: right;\">\n",
       "      <th></th>\n",
       "      <th>track_name</th>\n",
       "      <th>danceability</th>\n",
       "      <th>energy</th>\n",
       "      <th>key</th>\n",
       "      <th>loudness</th>\n",
       "      <th>mode</th>\n",
       "      <th>speechiness</th>\n",
       "      <th>acousticness</th>\n",
       "      <th>instrumentalness</th>\n",
       "      <th>liveness</th>\n",
       "      <th>valence</th>\n",
       "      <th>tempo</th>\n",
       "      <th>time_signature</th>\n",
       "      <th>duration_ms</th>\n",
       "      <th>is_folklore_or_evermore</th>\n",
       "    </tr>\n",
       "  </thead>\n",
       "  <tbody>\n",
       "    <tr>\n",
       "      <th>0</th>\n",
       "      <td>Tim McGraw</td>\n",
       "      <td>0.580</td>\n",
       "      <td>0.491</td>\n",
       "      <td>0.0</td>\n",
       "      <td>-6.462</td>\n",
       "      <td>1.0</td>\n",
       "      <td>0.0251</td>\n",
       "      <td>0.575</td>\n",
       "      <td>0.0</td>\n",
       "      <td>0.1210</td>\n",
       "      <td>0.425</td>\n",
       "      <td>76.009</td>\n",
       "      <td>4.0</td>\n",
       "      <td>232107.0</td>\n",
       "      <td>False</td>\n",
       "    </tr>\n",
       "    <tr>\n",
       "      <th>1</th>\n",
       "      <td>Picture To Burn</td>\n",
       "      <td>0.658</td>\n",
       "      <td>0.877</td>\n",
       "      <td>7.0</td>\n",
       "      <td>-2.098</td>\n",
       "      <td>1.0</td>\n",
       "      <td>0.0323</td>\n",
       "      <td>0.173</td>\n",
       "      <td>0.0</td>\n",
       "      <td>0.0962</td>\n",
       "      <td>0.821</td>\n",
       "      <td>105.586</td>\n",
       "      <td>4.0</td>\n",
       "      <td>173067.0</td>\n",
       "      <td>False</td>\n",
       "    </tr>\n",
       "    <tr>\n",
       "      <th>2</th>\n",
       "      <td>Teardrops On My Guitar</td>\n",
       "      <td>0.621</td>\n",
       "      <td>0.417</td>\n",
       "      <td>10.0</td>\n",
       "      <td>-6.941</td>\n",
       "      <td>1.0</td>\n",
       "      <td>0.0231</td>\n",
       "      <td>0.288</td>\n",
       "      <td>0.0</td>\n",
       "      <td>0.1190</td>\n",
       "      <td>0.289</td>\n",
       "      <td>99.953</td>\n",
       "      <td>4.0</td>\n",
       "      <td>203040.0</td>\n",
       "      <td>False</td>\n",
       "    </tr>\n",
       "    <tr>\n",
       "      <th>3</th>\n",
       "      <td>A Place In This World</td>\n",
       "      <td>0.576</td>\n",
       "      <td>0.777</td>\n",
       "      <td>9.0</td>\n",
       "      <td>-2.881</td>\n",
       "      <td>1.0</td>\n",
       "      <td>0.0324</td>\n",
       "      <td>0.051</td>\n",
       "      <td>0.0</td>\n",
       "      <td>0.3200</td>\n",
       "      <td>0.428</td>\n",
       "      <td>115.028</td>\n",
       "      <td>4.0</td>\n",
       "      <td>199200.0</td>\n",
       "      <td>False</td>\n",
       "    </tr>\n",
       "    <tr>\n",
       "      <th>4</th>\n",
       "      <td>Cold As You</td>\n",
       "      <td>0.418</td>\n",
       "      <td>0.482</td>\n",
       "      <td>5.0</td>\n",
       "      <td>-5.769</td>\n",
       "      <td>1.0</td>\n",
       "      <td>0.0266</td>\n",
       "      <td>0.217</td>\n",
       "      <td>0.0</td>\n",
       "      <td>0.1230</td>\n",
       "      <td>0.261</td>\n",
       "      <td>175.558</td>\n",
       "      <td>4.0</td>\n",
       "      <td>239013.0</td>\n",
       "      <td>False</td>\n",
       "    </tr>\n",
       "  </tbody>\n",
       "</table>\n",
       "</div>"
      ],
      "text/plain": [
       "               track_name  danceability  energy   key  loudness  mode  \\\n",
       "0              Tim McGraw         0.580   0.491   0.0    -6.462   1.0   \n",
       "1         Picture To Burn         0.658   0.877   7.0    -2.098   1.0   \n",
       "2  Teardrops On My Guitar         0.621   0.417  10.0    -6.941   1.0   \n",
       "3   A Place In This World         0.576   0.777   9.0    -2.881   1.0   \n",
       "4             Cold As You         0.418   0.482   5.0    -5.769   1.0   \n",
       "\n",
       "   speechiness  acousticness  instrumentalness  liveness  valence    tempo  \\\n",
       "0       0.0251         0.575               0.0    0.1210    0.425   76.009   \n",
       "1       0.0323         0.173               0.0    0.0962    0.821  105.586   \n",
       "2       0.0231         0.288               0.0    0.1190    0.289   99.953   \n",
       "3       0.0324         0.051               0.0    0.3200    0.428  115.028   \n",
       "4       0.0266         0.217               0.0    0.1230    0.261  175.558   \n",
       "\n",
       "   time_signature  duration_ms  is_folklore_or_evermore  \n",
       "0             4.0     232107.0                    False  \n",
       "1             4.0     173067.0                    False  \n",
       "2             4.0     203040.0                    False  \n",
       "3             4.0     199200.0                    False  \n",
       "4             4.0     239013.0                    False  "
      ]
     },
     "execution_count": 2,
     "metadata": {},
     "output_type": "execute_result"
    }
   ],
   "source": [
    "df_taylor = utils.load_dataset_taylor(\"archive/taylor_album_songs.csv\")\n",
    "df_taylor.head()"
   ]
  },
  {
   "cell_type": "markdown",
   "metadata": {},
   "source": [
    "### Separemos los labels y eliminamos el nombre de la canción"
   ]
  },
  {
   "cell_type": "code",
   "execution_count": null,
   "metadata": {},
   "outputs": [],
   "source": [
    "X = df_taylor.drop(columns = ['track_name', 'is_folklore_or_evermore'])\n",
    "y = df_taylor['is_folklore_or_evermore']"
   ]
  },
  {
   "cell_type": "code",
   "execution_count": 4,
   "metadata": {},
   "outputs": [],
   "source": [
    "# Complete aqui con su clasificador de preferencia!"
   ]
  }
 ],
 "metadata": {
  "kernelspec": {
   "display_name": "Python 3 (ipykernel)",
   "language": "python",
   "name": "python3"
  },
  "language_info": {
   "codemirror_mode": {
    "name": "ipython",
    "version": 3
   },
   "file_extension": ".py",
   "mimetype": "text/x-python",
   "name": "python",
   "nbconvert_exporter": "python",
   "pygments_lexer": "ipython3",
   "version": "3.8.10"
  },
  "vscode": {
   "interpreter": {
    "hash": "dd2b37eb247ff73e895558294226b942e7dd3b04397c261abd6eb39e4e858cfc"
   }
  }
 },
 "nbformat": 4,
 "nbformat_minor": 2
}
